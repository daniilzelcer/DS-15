{
 "cells": [
  {
   "cell_type": "code",
   "execution_count": 9,
   "id": "06acf155",
   "metadata": {},
   "outputs": [],
   "source": [
    "#Задача 1. Каллорийность продукта \n",
    "#(Вася пришел в магазин и хочет узнать, сколько килокалорий в выбранном продукте, но на упаковке написана только ценность продукта в джоулях. \n",
    "#Помогите Васе узнать калорийность продукта, если одна килокалория равна 4184 джоулям. )\n",
    "\n",
    "def get_calories (joule):\n",
    "    k = joule / 4184\n",
    "    return(k)"
   ]
  },
  {
   "cell_type": "code",
   "execution_count": 11,
   "id": "b2245398",
   "metadata": {},
   "outputs": [
    {
     "data": {
      "text/plain": [
       "1.0"
      ]
     },
     "execution_count": 11,
     "metadata": {},
     "output_type": "execute_result"
    }
   ],
   "source": [
    "get_calories(4184)"
   ]
  },
  {
   "cell_type": "code",
   "execution_count": 107,
   "id": "b6c3abd0",
   "metadata": {},
   "outputs": [],
   "source": [
    "#Задача 2. Экономная редакция (Функция без возврата, заменяет в тексте буквы Ё/Е; ё/е)\n",
    "# (Катя работает редактором в журнале. Журнал не очень прибыльный и приходится экономить на чернилах, \n",
    "# поэтому вместо букв Ё/ё в текстах используются Е/е. В штат недавно наняли нового журналиста, \n",
    "# который написал статью, в которой очень много букв Ё/ё. Помогите Кате исправить ситуацию. )\n",
    "\n",
    "\n",
    "def replacer (strings):\n",
    "    for i in range (len(strings)):\n",
    "        strings[i] = (str(strings[i])).replace('Ё', 'Е')\n",
    "        strings[i] = (str(strings[i])).replace('ё', 'е')"
   ]
  },
  {
   "cell_type": "code",
   "execution_count": 109,
   "id": "e2ffc080",
   "metadata": {},
   "outputs": [
    {
     "data": {
      "text/plain": [
       "['Еж', 'зеленый', 'ЕЕ', 'гЕТЬесЮеезЪЕЕЙ']"
      ]
     },
     "execution_count": 109,
     "metadata": {},
     "output_type": "execute_result"
    }
   ],
   "source": [
    "replacer (['Еж', 'зелёный', 'ЕЁ', 'гЁТЬёсЮёёзЪЁЁЙ'])"
   ]
  },
  {
   "cell_type": "code",
   "execution_count": 118,
   "id": "c21da362",
   "metadata": {},
   "outputs": [],
   "source": [
    "# Подписки в инстаграме\n",
    "\n",
    "def filter_accounts (accounts, min_followers, max_followers):\n",
    "    \n",
    "    \n",
    "    \n",
    "    return (accounts, min_followers, max_followers)"
   ]
  },
  {
   "cell_type": "code",
   "execution_count": 119,
   "id": "5c348257",
   "metadata": {},
   "outputs": [
    {
     "data": {
      "text/plain": [
       "({'@blogger13999': 2308,\n",
       "  '@dragondragon': 1473,\n",
       "  '@account': 1400,\n",
       "  '@flowers': 1250,\n",
       "  '@banana': 1500},\n",
       " 1400,\n",
       " 1500)"
      ]
     },
     "execution_count": 119,
     "metadata": {},
     "output_type": "execute_result"
    }
   ],
   "source": [
    "filter_accounts ({'@blogger13999': 2308, '@dragondragon': 1473, '@account': 1400, '@flowers': 1250, '@banana': 1500}, 1400, 1500)"
   ]
  },
  {
   "cell_type": "code",
   "execution_count": 134,
   "id": "82c5ce20",
   "metadata": {},
   "outputs": [
    {
     "ename": "KeyError",
     "evalue": "0",
     "output_type": "error",
     "traceback": [
      "\u001b[0;31m---------------------------------------------------------------------------\u001b[0m",
      "\u001b[0;31mKeyError\u001b[0m                                  Traceback (most recent call last)",
      "Cell \u001b[0;32mIn[134], line 2\u001b[0m\n\u001b[1;32m      1\u001b[0m A \u001b[38;5;241m=\u001b[39m {\u001b[38;5;124m'\u001b[39m\u001b[38;5;124m@blogger13999\u001b[39m\u001b[38;5;124m'\u001b[39m: \u001b[38;5;241m2308\u001b[39m, \u001b[38;5;124m'\u001b[39m\u001b[38;5;124m@dragondragon\u001b[39m\u001b[38;5;124m'\u001b[39m: \u001b[38;5;241m1473\u001b[39m, \u001b[38;5;124m'\u001b[39m\u001b[38;5;124m@account\u001b[39m\u001b[38;5;124m'\u001b[39m: \u001b[38;5;241m1400\u001b[39m, \u001b[38;5;124m'\u001b[39m\u001b[38;5;124m@flowers\u001b[39m\u001b[38;5;124m'\u001b[39m: \u001b[38;5;241m1250\u001b[39m, \u001b[38;5;124m'\u001b[39m\u001b[38;5;124m@banana\u001b[39m\u001b[38;5;124m'\u001b[39m: \u001b[38;5;241m1500\u001b[39m}\n\u001b[0;32m----> 2\u001b[0m \u001b[38;5;28mprint\u001b[39m (A[\u001b[38;5;241m0\u001b[39m]\u001b[38;5;241m.\u001b[39mget)\n",
      "\u001b[0;31mKeyError\u001b[0m: 0"
     ]
    }
   ],
   "source": [
    "A = {'@blogger13999': 2308, '@dragondragon': 1473, '@account': 1400, '@flowers': 1250, '@banana': 1500}\n",
    "print (A.get ())"
   ]
  },
  {
   "cell_type": "code",
   "execution_count": null,
   "id": "c9cb2c2a",
   "metadata": {},
   "outputs": [],
   "source": []
  }
 ],
 "metadata": {
  "kernelspec": {
   "display_name": "Python 3 (ipykernel)",
   "language": "python",
   "name": "python3"
  },
  "language_info": {
   "codemirror_mode": {
    "name": "ipython",
    "version": 3
   },
   "file_extension": ".py",
   "mimetype": "text/x-python",
   "name": "python",
   "nbconvert_exporter": "python",
   "pygments_lexer": "ipython3",
   "version": "3.11.5"
  }
 },
 "nbformat": 4,
 "nbformat_minor": 5
}
