{
 "cells": [
  {
   "cell_type": "code",
   "execution_count": 30,
   "id": "d6c5d242",
   "metadata": {},
   "outputs": [
    {
     "name": "stdout",
     "output_type": "stream",
     "text": [
      "1.02.2012\n",
      "1 февраля 2012 года\n"
     ]
    }
   ],
   "source": [
    "#Задача для самопроверки - 1 (второй блок). Дата\n",
    "\n",
    "months =    [\"января\" ,\"февраля\", \n",
    "            \"марта\", \"апреля\" ,\"мая\" ,\n",
    "            \"июня\" , \"июля\", \"августа\", \n",
    "            \"сентября\", \"октября\", \"ноября\", \n",
    "            \"декабря\"] \n",
    "\n",
    "date = input()\n",
    "\n",
    "k = date.split('.')\n",
    "\n",
    "a = int(k[0])\n",
    "b = int(k[1])\n",
    "c = int(k[2])\n",
    "\n",
    "print(f\"{a} {months[b-1]} {c} года\")"
   ]
  },
  {
   "cell_type": "code",
   "execution_count": 14,
   "id": "feb401ad",
   "metadata": {},
   "outputs": [
    {
     "name": "stdout",
     "output_type": "stream",
     "text": [
      "flk\n",
      "dkfvkd: flk, ejkvsdc\n",
      "1\n"
     ]
    }
   ],
   "source": [
    "#Задача для самопроверки - 2 (Второй блок). Диктант\n",
    "\n",
    "s = input() \n",
    "p = input()\n",
    "\n",
    "i = 0\n",
    "\n",
    "for word1 in s.split():\n",
    "    \n",
    "    for word2 in p.split():\n",
    "        \n",
    "        if word1 in word2:\n",
    "            i += word2.count(word1)\n",
    "print(i)"
   ]
  },
  {
   "cell_type": "code",
   "execution_count": 84,
   "id": "80506495",
   "metadata": {},
   "outputs": [
    {
     "name": "stdout",
     "output_type": "stream",
     "text": [
      "разморозить холодильник, вернуть книги в библиотеку, сварить сосиски, помыть пол, выгулять собаку, купить билеты\n",
      "вернуть книги в библиотеку, помыть пол, купить билеты\n",
      "разморозить холодильник, сварить сосиски, выгулять собаку\n"
     ]
    }
   ],
   "source": [
    "#Задача для самопроверки - 3 (Второй блок). Домашние дела-2\n",
    "\n",
    "s = input()\n",
    "s_word = s.split(', ')\n",
    "\n",
    "a = list()\n",
    "b = list()\n",
    "\n",
    "i = 0\n",
    "\n",
    "for i in range(len(s_word)):\n",
    "    if ((i+1) % 2) > 0:\n",
    "        b.append(s_word[i])\n",
    "    else:\n",
    "        a.append(s_word[i])\n",
    "    \n",
    "        \n",
    "print (*a, sep = ', ')\n",
    "print(*b, sep = ', ')"
   ]
  },
  {
   "cell_type": "code",
   "execution_count": 87,
   "id": "41254a7e",
   "metadata": {},
   "outputs": [
    {
     "name": "stdout",
     "output_type": "stream",
     "text": [
      "Литературное чтение: Хрестоматия, Математика, Курс общей физики, Немецкий язык, Изобразительное искусство, Основы безопасности жизнедеятельности\n",
      "979-5-494-01620-1, 978-5-358-16896-1, 978-5-8114-1208-2, 978-5-09-037247-3, 978-5-358-16082-8, 978-5-09-037719-5\n",
      "Курс общей физики, Немецкий язык\n",
      "979-5-494-01620-1\n",
      "978-5-358-16896-1\n",
      "978-5-358-16082-8\n",
      "978-5-09-037719-5\n"
     ]
    }
   ],
   "source": [
    "#Задача для самопроверки - 4 (Второй блок). Библиотека\n",
    "\n",
    "books  = input().split(', ')\n",
    "isbn = input().split(', ')\n",
    "books_yes = input().split(', ')\n",
    "\n",
    "a = list()\n",
    "\n",
    "for i in range(0, len(books)):\n",
    "    \n",
    "    if books[i] not in books_yes:\n",
    "        a.append(isbn[i])\n",
    "        \n",
    "print(*a, sep = '\\n')"
   ]
  },
  {
   "cell_type": "code",
   "execution_count": 4,
   "id": "519f0f0c",
   "metadata": {},
   "outputs": [
    {
     "name": "stdout",
     "output_type": "stream",
     "text": [
      "oleg_romashka@m.edu,zaika888@m.edu,12124243@m.edu,ooivanova@m.com,python_master@m.ru,taisia@m.edu\n",
      "2\n",
      "oleg_romashka@m.edu romashka@m.edu\n",
      "12124243@m.edu 121@m.edu\n",
      "romashka@m.edu;zaika888@m.edu;121@m.edu;ooivanova@m.com;python_master@m.ru;taisia@m.edu\n"
     ]
    }
   ],
   "source": [
    "#Задача для самопроврки - 5 (Второй блок). Электронные адреса\n",
    "\n",
    "email  = input().split(',')\n",
    "k = int(input())\n",
    "\n",
    "if k > 0:\n",
    "\n",
    "    for i in range (0, k):     \n",
    "        s = input().split(' ')\n",
    "    \n",
    "        for i in range (0, len(email)):\n",
    "            if email[i] in s:\n",
    "                email[i] = s[1]\n",
    "    \n",
    "print(*email, sep = ';')"
   ]
  },
  {
   "cell_type": "code",
   "execution_count": 35,
   "id": "00fdb3f7",
   "metadata": {},
   "outputs": [
    {
     "name": "stdout",
     "output_type": "stream",
     "text": [
      "1 2 3 4 5\n",
      "[1, 4, 9, 16, 25]\n"
     ]
    }
   ],
   "source": [
    "#Задача для самопроверки - 1 (Третий блок). List comprehension (возводит в квадрат числа в строке)\n",
    "\n",
    "stroka = input().split()\n",
    "a = [int(i)*int(i) for i in stroka]\n",
    "print(a)"
   ]
  },
  {
   "cell_type": "code",
   "execution_count": 50,
   "id": "4e4a9279",
   "metadata": {},
   "outputs": [
    {
     "name": "stdout",
     "output_type": "stream",
     "text": [
      "5\n",
      "[2, 4]\n"
     ]
    }
   ],
   "source": [
    "# Задача для самопроверки - 2 (Третий блок). Добавляет в список только четные числа\n",
    "\n",
    "N = int(input())\n",
    "a = []\n",
    "for i in range (1, N+1):\n",
    "    if i % 2 == 0:\n",
    "        a.append(i)\n",
    "\n",
    "print (a)"
   ]
  },
  {
   "cell_type": "code",
   "execution_count": 60,
   "id": "0a29f754",
   "metadata": {},
   "outputs": [
    {
     "name": "stdout",
     "output_type": "stream",
     "text": [
      "5\n",
      "[2, 4]\n"
     ]
    }
   ],
   "source": [
    "# Задача для самопроверки - 2 (Третий блок). Добавляет в список только четные числа (C помощью List Comprehension)\n",
    "\n",
    "N = int(input())\n",
    "a = [i for i in range (1, N+1) if i % 2 == 0]\n",
    "print (a)"
   ]
  },
  {
   "cell_type": "code",
   "execution_count": 142,
   "id": "ed1c1e4a",
   "metadata": {},
   "outputs": [
    {
     "name": "stdout",
     "output_type": "stream",
     "text": [
      "Каждый день я замечаю, что рядом с моим домом живет кот. Это твой кот? Он гуляет здесь каждый день!\n",
      "день, кот, моим, он, с, твой, что, это, я\n"
     ]
    }
   ],
   "source": [
    "# Задача для самопроверки - 3 (Третий блок). Set comprehension (Множество с уникальными словами) \n",
    "\n",
    "sentence = input()\n",
    "a = []\n",
    "a = {i.strip('.,?!').lower() for i in sentence.split() if (i not in a) and (len(i)<5)}\n",
    "print(*(sorted(a)), sep = ', ')"
   ]
  },
  {
   "cell_type": "code",
   "execution_count": 221,
   "id": "d4275430",
   "metadata": {},
   "outputs": [
    {
     "name": "stdout",
     "output_type": "stream",
     "text": [
      "Шла Саша по шоссе и сосала сушку\n",
      "{'ш': 4, 'л': 2, 'а': 5, 'с': 6, 'п': 1, 'о': 3, 'е': 1, 'и': 1, 'у': 2, 'к': 1}\n"
     ]
    }
   ],
   "source": [
    "#Задача для самопроверки - 4 (Третий блок). Dictionary comprehension (Считает сколько раз буква повторяется в слове)\n",
    " \n",
    "word = input().replace(' ', '').lower()\n",
    "a = []\n",
    "a = {i.lower(): list(word).count(i) for i in list(word)}\n",
    "print(a)"
   ]
  },
  {
   "cell_type": "code",
   "execution_count": null,
   "id": "fec124be",
   "metadata": {},
   "outputs": [],
   "source": []
  }
 ],
 "metadata": {
  "kernelspec": {
   "display_name": "Python 3 (ipykernel)",
   "language": "python",
   "name": "python3"
  },
  "language_info": {
   "codemirror_mode": {
    "name": "ipython",
    "version": 3
   },
   "file_extension": ".py",
   "mimetype": "text/x-python",
   "name": "python",
   "nbconvert_exporter": "python",
   "pygments_lexer": "ipython3",
   "version": "3.11.5"
  }
 },
 "nbformat": 4,
 "nbformat_minor": 5
}
