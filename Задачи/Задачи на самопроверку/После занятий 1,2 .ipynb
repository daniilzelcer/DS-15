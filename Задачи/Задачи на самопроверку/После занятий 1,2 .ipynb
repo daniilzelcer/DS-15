{
 "cells": [
  {
   "cell_type": "code",
   "execution_count": 2,
   "id": "61aa2f38",
   "metadata": {},
   "outputs": [
    {
     "name": "stdout",
     "output_type": "stream",
     "text": [
      "1\n",
      "1\n",
      "Ура! Путевки на Олимпийские игры завоеваны!\n",
      "3\n"
     ]
    }
   ],
   "source": [
    "#Задача 1. Путевки на Олимпийские игры\n",
    "\n",
    "k = int(input ()) #место на чемпионате мира\n",
    "s = int(input ()) #место на чемпионате европы\n",
    "i = 0\n",
    "if (1 <= k <= 20) & (1 <= s <= 16):\n",
    "    i += 1\n",
    "    if (1 <= k <= 10) | (1 <= s <= 10):\n",
    "        i += 1\n",
    "        if  (1 <= k <= 2) | (1 <= s <= 2):\n",
    "            i += 1\n",
    "    print('Ура! Путевки на Олимпийские игры завоеваны!', i, sep = '\\n')\n",
    "elif (1 <= k <= 24) | (1 <= s <= 20):\n",
    "    print('Нужно принять участие в дополнительных отборочных соревнованиях')\n",
    "else:\n",
    "    print('К сожалению, в этот раз не удалось завоевать путевки на Олимпийские игры')"
   ]
  },
  {
   "cell_type": "code",
   "execution_count": 3,
   "id": "946d7b77",
   "metadata": {},
   "outputs": [
    {
     "name": "stdout",
     "output_type": "stream",
     "text": [
      "100\n",
      "50\n",
      "200\n"
     ]
    }
   ],
   "source": [
    "# Задача 2. While с условием (Нахождение результата чисел <= 100 целочисленно кратных двум)\n",
    "\n",
    "k = int (input())\n",
    "while k <= 100:\n",
    "    c = str(k // 2)\n",
    "    print (c)\n",
    "    k = int (input())"
   ]
  },
  {
   "cell_type": "code",
   "execution_count": null,
   "id": "41a320d7",
   "metadata": {},
   "outputs": [],
   "source": [
    "# Задача 3. Деньги на ноутбук\n",
    "\n",
    "k = int (input())\n",
    "i = 0\n",
    "while 0 <= k:\n",
    "    if k >= 20000:\n",
    "        i += 1\n",
    "    k = int (input())\n",
    "print (i)"
   ]
  }
 ],
 "metadata": {
  "kernelspec": {
   "display_name": "Python 3 (ipykernel)",
   "language": "python",
   "name": "python3"
  },
  "language_info": {
   "codemirror_mode": {
    "name": "ipython",
    "version": 3
   },
   "file_extension": ".py",
   "mimetype": "text/x-python",
   "name": "python",
   "nbconvert_exporter": "python",
   "pygments_lexer": "ipython3",
   "version": "3.11.5"
  }
 },
 "nbformat": 4,
 "nbformat_minor": 5
}
