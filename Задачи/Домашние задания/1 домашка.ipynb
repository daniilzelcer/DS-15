{
 "cells": [
  {
   "cell_type": "code",
   "execution_count": 11,
   "id": "3f5db583",
   "metadata": {},
   "outputs": [
    {
     "name": "stdout",
     "output_type": "stream",
     "text": [
      "1000\n",
      "10\n",
      "1100\n"
     ]
    }
   ],
   "source": [
    "#Задача 1. Возврат долга с процентами\n",
    "\n",
    "dlg = int(input ())\n",
    "prcnt = int (input()) \n",
    "k = prcnt / 100\n",
    "print(int(dlg + dlg * k))"
   ]
  },
  {
   "cell_type": "code",
   "execution_count": 21,
   "id": "83686652",
   "metadata": {},
   "outputs": [
    {
     "name": "stdout",
     "output_type": "stream",
     "text": [
      "1\n",
      "Можно лететь!\n"
     ]
    }
   ],
   "source": [
    "# Задача 2. Температура в Сочи\n",
    "\n",
    "\n",
    "t = int (input())\n",
    "if (20 <= t <= 30) | ((- 5) <= t <= 5):\n",
    "    print ('Можно лететь!')\n",
    "else:\n",
    "    print ('Не время для отпуска')"
   ]
  },
  {
   "cell_type": "code",
   "execution_count": 1,
   "id": "89bc0869",
   "metadata": {},
   "outputs": [
    {
     "name": "stdout",
     "output_type": "stream",
     "text": [
      "100\n",
      "ДА\n"
     ]
    }
   ],
   "source": [
    "# Задача 3. Банкомат\n",
    "\n",
    "k = int(input())\n",
    "if k % 100 == 0:\n",
    "    print (\"ДА\")\n",
    "else:\n",
    "    print (\"НЕТ\")"
   ]
  },
  {
   "cell_type": "code",
   "execution_count": 151,
   "id": "22371212",
   "metadata": {},
   "outputs": [
    {
     "name": "stdout",
     "output_type": "stream",
     "text": [
      "1949\n",
      "20\n"
     ]
    }
   ],
   "source": [
    "# Задача 4. Какой это век? (Определение века по году)\n",
    "\n",
    "year = input()\n",
    "v = int(len (year))\n",
    "year = int (year)\n",
    "if (1 <= v <= 2) or (year == 100):\n",
    "    print (1)\n",
    "elif (v == 3) and (1 <= (year % 100) <= 99):\n",
    "    print ((year // 100) + 1)\n",
    "elif (v == 3) and ((year % 100) == 0):\n",
    "    print (year // 100)\n",
    "elif (v == 4) and (1 <= (year % 100) <= 99):\n",
    "    print ((year // 100) + 1)\n",
    "elif (v == 4) and ((year % 100) == 0):\n",
    "    print (year // 100)"
   ]
  },
  {
   "cell_type": "code",
   "execution_count": 193,
   "id": "b78a4b22",
   "metadata": {},
   "outputs": [
    {
     "name": "stdout",
     "output_type": "stream",
     "text": [
      "температура\n",
      "35\n",
      "Назначаю вам Антижарин-2\n"
     ]
    }
   ],
   "source": [
    "#Задача 5. Помощник Айболита\n",
    "\n",
    "x = input()\n",
    "if 'кашель' in x:\n",
    "    k = input ()\n",
    "    if (k == 'влажный'):\n",
    "        print (\"Назначаю вам Отхаркин-1\")\n",
    "    elif (k == 'сухой'):\n",
    "        print (\"Назначаю вам Отхаркин-2\")\n",
    "    else:\n",
    "        print ('Пожалуйста, обратитесь к доктору Айболиту')\n",
    "elif 'температура' in x:\n",
    "    k = float(input())\n",
    "    if (k > 38):\n",
    "        print (\"Назначаю вам Антижарин-1\")\n",
    "    elif (1 <= k <= 38):\n",
    "        print (\"Назначаю вам Антижарин-2\")\n",
    "    else:\n",
    "        print ('Пожалуйста, обратитесь к доктору Айболиту')\n",
    "else:\n",
    "    print ('Пожалуйста, обратитесь к доктору Айболиту')"
   ]
  }
 ],
 "metadata": {
  "kernelspec": {
   "display_name": "Python 3 (ipykernel)",
   "language": "python",
   "name": "python3"
  },
  "language_info": {
   "codemirror_mode": {
    "name": "ipython",
    "version": 3
   },
   "file_extension": ".py",
   "mimetype": "text/x-python",
   "name": "python",
   "nbconvert_exporter": "python",
   "pygments_lexer": "ipython3",
   "version": "3.11.5"
  }
 },
 "nbformat": 4,
 "nbformat_minor": 5
}
