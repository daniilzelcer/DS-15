{
 "cells": [
  {
   "cell_type": "code",
   "execution_count": 11,
   "id": "3f5db583",
   "metadata": {},
   "outputs": [
    {
     "name": "stdout",
     "output_type": "stream",
     "text": [
      "1000\n",
      "10\n",
      "1100\n"
     ]
    }
   ],
   "source": [
    "#Задача. Возврат долга с процентами\n",
    "\n",
    "dlg = int(input ())\n",
    "prcnt = int (input()) \n",
    "k = prcnt / 100\n",
    "print(int(dlg + dlg * k))"
   ]
  },
  {
   "cell_type": "code",
   "execution_count": 21,
   "id": "83686652",
   "metadata": {},
   "outputs": [
    {
     "name": "stdout",
     "output_type": "stream",
     "text": [
      "1\n",
      "Можно лететь!\n"
     ]
    }
   ],
   "source": [
    "t = int (input())\n",
    "if (20 <= t <= 30) | ((- 5) <= t <= 5):\n",
    "    print ('Можно лететь!')\n",
    "else:\n",
    "    print ('Не время для отпуска')"
   ]
  },
  {
   "cell_type": "code",
   "execution_count": 147,
   "id": "19afb5db",
   "metadata": {},
   "outputs": [
    {
     "name": "stdout",
     "output_type": "stream",
     "text": [
      "21\n",
      "1\n"
     ]
    }
   ],
   "source": [
    "print (2100//100)\n",
    "print (2101%100)"
   ]
  },
  {
   "cell_type": "code",
   "execution_count": 17,
   "id": "b02045bf",
   "metadata": {},
   "outputs": [
    {
     "name": "stdout",
     "output_type": "stream",
     "text": [
      "100\n"
     ]
    }
   ],
   "source": [
    "print (201 // 2)"
   ]
  },
  {
   "cell_type": "code",
   "execution_count": 4,
   "id": "f17f6a9d",
   "metadata": {},
   "outputs": [
    {
     "name": "stdout",
     "output_type": "stream",
     "text": [
      "12\n",
      "2\n"
     ]
    }
   ],
   "source": [
    "k = len (input())\n",
    "print (k)"
   ]
  },
  {
   "cell_type": "code",
   "execution_count": 151,
   "id": "22371212",
   "metadata": {},
   "outputs": [
    {
     "name": "stdout",
     "output_type": "stream",
     "text": [
      "1949\n",
      "20\n"
     ]
    }
   ],
   "source": [
    "# Задача. Определение века по году\n",
    "\n",
    "year = input()\n",
    "v = int(len (year))\n",
    "year = int (year)\n",
    "if (1 <= v <= 2) or (year == 100):\n",
    "    print (1)\n",
    "elif (v == 3) and (1 <= (year % 100) <= 99):\n",
    "    print ((year // 100) + 1)\n",
    "elif (v == 3) and ((year % 100) == 0):\n",
    "    print (year // 100)\n",
    "elif (v == 4) and (1 <= (year % 100) <= 99):\n",
    "    print ((year // 100) + 1)\n",
    "elif (v == 4) and ((year % 100) == 0):\n",
    "    print (year // 100)"
   ]
  },
  {
   "cell_type": "code",
   "execution_count": 193,
   "id": "b78a4b22",
   "metadata": {},
   "outputs": [
    {
     "name": "stdout",
     "output_type": "stream",
     "text": [
      "температура\n",
      "35\n",
      "Назначаю вам Антижарин-2\n"
     ]
    }
   ],
   "source": [
    "#Задача. Айболит\n",
    "\n",
    "x = input()\n",
    "if 'кашель' in x:\n",
    "    k = input ()\n",
    "    if (k == 'влажный'):\n",
    "        print (\"Назначаю вам Отхаркин-1\")\n",
    "    elif (k == 'сухой'):\n",
    "        print (\"Назначаю вам Отхаркин-2\")\n",
    "    else:\n",
    "        print ('Пожалуйста, обратитесь к доктору Айболиту')\n",
    "elif 'температура' in x:\n",
    "    k = float(input())\n",
    "    if (k > 38):\n",
    "        print (\"Назначаю вам Антижарин-1\")\n",
    "    elif (1 <= k <= 38):\n",
    "        print (\"Назначаю вам Антижарин-2\")\n",
    "    else:\n",
    "        print ('Пожалуйста, обратитесь к доктору Айболиту')\n",
    "else:\n",
    "    print ('Пожалуйста, обратитесь к доктору Айболиту')"
   ]
  },
  {
   "cell_type": "code",
   "execution_count": 6,
   "id": "4b928720",
   "metadata": {},
   "outputs": [
    {
     "name": "stdout",
     "output_type": "stream",
     "text": [
      "sbfjksd\n",
      "2\n"
     ]
    }
   ],
   "source": [
    "print ('sbfjksd', k, sep = '\\n')"
   ]
  },
  {
   "cell_type": "code",
   "execution_count": 16,
   "id": "14817e11",
   "metadata": {},
   "outputs": [
    {
     "name": "stdout",
     "output_type": "stream",
     "text": [
      "10\n",
      "24\n",
      "Нужно принять участие в дополнительных отборочных соревнованиях\n"
     ]
    }
   ],
   "source": [
    "#Путевки на Олимпийские игры\n",
    "\n",
    "k = int(input ()) #место на чемпионате мира\n",
    "s = int(input ()) #место на чемпионате европы\n",
    "i = 0\n",
    "if (1 <= k <= 20) & (1 <= s <= 16):\n",
    "    i += 1\n",
    "    if (1 <= k <= 10) | (1 <= s <= 10):\n",
    "        i += 1\n",
    "        if  (1 <= k <= 2) | (1 <= s <= 2):\n",
    "            i += 1\n",
    "    print('Ура! Путевки на Олимпийские игры завоеваны!', i, sep = '\\n')\n",
    "elif (1 <= k <= 24) | (1 <= s <= 20):\n",
    "    print('Нужно принять участие в дополнительных отборочных соревнованиях')\n",
    "else:\n",
    "    print('К сожалению, в этот раз не удалось завоевать путевки на Олимпийские игры')"
   ]
  },
  {
   "cell_type": "code",
   "execution_count": 32,
   "id": "26fd6b9f",
   "metadata": {},
   "outputs": [
    {
     "name": "stdout",
     "output_type": "stream",
     "text": [
      "12\n",
      "6\n",
      "100\n",
      "50\n",
      "134\n"
     ]
    }
   ],
   "source": [
    "# Нахождение результата чисел <= 100 целочисленно кратных двум\n",
    "\n",
    "k = int (input())\n",
    "while k <= 100:\n",
    "    c = str(k // 2)\n",
    "    print (c)\n",
    "    k = int (input())"
   ]
  },
  {
   "cell_type": "code",
   "execution_count": 35,
   "id": "0a544e30",
   "metadata": {},
   "outputs": [
    {
     "name": "stdout",
     "output_type": "stream",
     "text": [
      "30000\n",
      "27000\n",
      "8888\n",
      "-5\n",
      "2\n"
     ]
    }
   ],
   "source": [
    "# Деньги на ноутбук\n",
    "\n",
    "k = int (input())\n",
    "i = 0\n",
    "while 0 <= k:\n",
    "    if k >= 20000:\n",
    "        i += 1\n",
    "    k = int (input())\n",
    "print (i)"
   ]
  },
  {
   "cell_type": "code",
   "execution_count": null,
   "id": "8c6bd83b",
   "metadata": {},
   "outputs": [],
   "source": []
  }
 ],
 "metadata": {
  "kernelspec": {
   "display_name": "Python 3 (ipykernel)",
   "language": "python",
   "name": "python3"
  },
  "language_info": {
   "codemirror_mode": {
    "name": "ipython",
    "version": 3
   },
   "file_extension": ".py",
   "mimetype": "text/x-python",
   "name": "python",
   "nbconvert_exporter": "python",
   "pygments_lexer": "ipython3",
   "version": "3.11.5"
  }
 },
 "nbformat": 4,
 "nbformat_minor": 5
}
